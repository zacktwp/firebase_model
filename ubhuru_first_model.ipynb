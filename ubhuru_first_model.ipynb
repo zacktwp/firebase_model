{
 "cells": [
  {
   "cell_type": "code",
   "execution_count": 1,
   "metadata": {},
   "outputs": [
    {
     "data": {
      "text/plain": [
       "<firebase_admin.App at 0x107b950a0>"
      ]
     },
     "execution_count": 1,
     "metadata": {},
     "output_type": "execute_result"
    }
   ],
   "source": [
    "import firebase_admin\n",
    "from firebase_admin import ml\n",
    "from firebase_admin import credentials\n",
    "\n",
    "firebase_admin.initialize_app(\n",
    "  credentials.Certificate('/Users/zppeter/Downloads/mindcare-mlops-firebase-adminsdk-gwgws-157a24e455.json'),\n",
    "  options={\n",
    "      'storageBucket': 'mindcare-mlops.appspot.com',\n",
    "  })"
   ]
  },
  {
   "cell_type": "code",
   "execution_count": 3,
   "metadata": {},
   "outputs": [
    {
     "name": "stdout",
     "output_type": "stream",
     "text": [
      "Epoch 1/3\n",
      "1/1 [==============================] - 0s 748us/step - loss: 42.8385\n",
      "Epoch 2/3\n",
      "1/1 [==============================] - 0s 736us/step - loss: 34.0695\n",
      "Epoch 3/3\n",
      "1/1 [==============================] - 0s 755us/step - loss: 27.1630\n"
     ]
    },
    {
     "data": {
      "text/plain": [
       "<tensorflow.python.keras.callbacks.History at 0x1395eba00>"
      ]
     },
     "execution_count": 3,
     "metadata": {},
     "output_type": "execute_result"
    }
   ],
   "source": [
    "import tensorflow as tf\n",
    "\n",
    "# Create a simple Keras model.\n",
    "x = [-1, 0, 1, 2, 3, 4]\n",
    "y = [-3, -1, 1, 3, 5, 7]\n",
    "\n",
    "model_binary = tf.keras.models.Sequential(\n",
    "    [tf.keras.layers.Dense(units=1, input_shape=[1])])\n",
    "model_binary.compile(optimizer='sgd', loss='mean_squared_error')\n",
    "model_binary.fit(x, y, epochs=3)"
   ]
  },
  {
   "cell_type": "code",
   "execution_count": 5,
   "metadata": {},
   "outputs": [
    {
     "name": "stdout",
     "output_type": "stream",
     "text": [
      "INFO:tensorflow:Assets written to: /var/folders/qf/wgz5hmjd5p19gk0v5d6qps80xvjzwp/T/tmp92zdu40w/assets\n"
     ]
    },
    {
     "name": "stderr",
     "output_type": "stream",
     "text": [
      "INFO:tensorflow:Assets written to: /var/folders/qf/wgz5hmjd5p19gk0v5d6qps80xvjzwp/T/tmp92zdu40w/assets\n"
     ]
    }
   ],
   "source": [
    "source = ml.TFLiteGCSModelSource.from_keras_model(model_binary, 'my_model2.tflite')"
   ]
  },
  {
   "cell_type": "code",
   "execution_count": 2,
   "metadata": {},
   "outputs": [
    {
     "data": {
      "text/plain": [
       "<firebase_admin.ml.Model at 0x13947be80>"
      ]
     },
     "execution_count": 2,
     "metadata": {},
     "output_type": "execute_result"
    }
   ],
   "source": [
    "# First, import and initialize the SDK as shown above.\n",
    "\n",
    "# Load a tflite file and upload it to Cloud Storage\n",
    "source = ml.TFLiteGCSModelSource.from_tflite_model_file('test_model.tflite')\n",
    "\n",
    "# Create the model object\n",
    "tflite_format = ml.TFLiteFormat(model_source=source)\n",
    "model = ml.Model(\n",
    "    display_name=\"example_model\",  # This is the name you use from your app to load the model.\n",
    "    tags=[\"examples\"],             # Optional tags for easier management.\n",
    "    model_format=tflite_format)\n",
    "\n",
    "# Add the model to your Firebase project and publish it\n",
    "new_model = ml.create_model(model)\n",
    "ml.publish_model(new_model.model_id)"
   ]
  },
  {
   "cell_type": "code",
   "execution_count": null,
   "metadata": {},
   "outputs": [],
   "source": []
  }
 ],
 "metadata": {
  "kernelspec": {
   "display_name": "Python 3",
   "language": "python",
   "name": "python3"
  },
  "language_info": {
   "codemirror_mode": {
    "name": "ipython",
    "version": 3
   },
   "file_extension": ".py",
   "mimetype": "text/x-python",
   "name": "python",
   "nbconvert_exporter": "python",
   "pygments_lexer": "ipython3",
   "version": "3.8.2"
  }
 },
 "nbformat": 4,
 "nbformat_minor": 4
}
